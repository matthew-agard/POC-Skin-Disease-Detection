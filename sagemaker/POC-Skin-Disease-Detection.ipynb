{
 "cells": [
  {
   "cell_type": "markdown",
   "id": "ea6671fc-3ee1-4cb0-9cd3-3fbbe01196be",
   "metadata": {},
   "source": [
    "# Addressing the Problem"
   ]
  },
  {
   "cell_type": "markdown",
   "id": "e88b4560-2ce4-4940-85e0-b38814851207",
   "metadata": {},
   "source": [
    "### Skin Disease Classification"
   ]
  },
  {
   "cell_type": "markdown",
   "id": "4ce5cac2-4e70-4102-bda6-efe65b8c289f",
   "metadata": {},
   "source": [
    "The U.S. Census Bureau projects that by 2050, about half of all patients seen in the U.S. healthcare system will have skin of color (SOC). As these communities continue to grow, so will the likelihood of dermatologists encountering cutaneous (skin) diseases that happen more frequently in SOC patients, happen exclusively in SOC patients, and/or present differently in SOC patients than their White counterparts. Aiding dermatologists in their understanding, and more importantly diagnoses, of SOC patients’ cutaneous disease presentations is paramount to delivering life-saving\n",
    "quality of care to these communities. As a result, the following practicum project will explore the use of computer vision for classification of cutaneous diseases in SOC patients."
   ]
  },
  {
   "cell_type": "markdown",
   "id": "9cdad4d7-afac-4029-8010-61b74f0febd7",
   "metadata": {},
   "source": [
    "### Problem Structure"
   ]
  },
  {
   "cell_type": "markdown",
   "id": "6be8501b-b3b5-4d83-890c-c5db7441794b",
   "metadata": {},
   "source": [
    "The following research notebook addresses the supervised classification problem of determining whether a given image of a skin disease is benign (0) or malignant (1). The metric(s) to be used for evaluating the neural network's performance is TBD."
   ]
  },
  {
   "cell_type": "markdown",
   "id": "5aefca4d-33a3-46ac-a4c7-eb93839fc867",
   "metadata": {},
   "source": [
    "### Import Necessary Modules"
   ]
  },
  {
   "cell_type": "code",
   "execution_count": 1,
   "id": "f15cc948-0de6-4f59-ac55-4d7f2ceaf46a",
   "metadata": {},
   "outputs": [
    {
     "name": "stderr",
     "output_type": "stream",
     "text": [
      "2024-04-10 23:14:51.346530: I tensorflow/core/platform/cpu_feature_guard.cc:182] This TensorFlow binary is optimized to use available CPU instructions in performance-critical operations.\n",
      "To enable the following instructions: SSE4.1 SSE4.2 AVX AVX2 AVX512F FMA, in other operations, rebuild TensorFlow with the appropriate compiler flags.\n"
     ]
    }
   ],
   "source": [
    "# Python libraries\n",
    "import shutil\n",
    "import os\n",
    "from IPython.display import display\n",
    "from PIL import Image\n",
    "\n",
    "# Data science libraries\n",
    "import pandas as pd\n",
    "import numpy as np\n",
    "import matplotlib.pyplot as plt\n",
    "from sklearn.model_selection import train_test_split\n",
    "\n",
    "# Neural network libraries\n",
    "import tensorflow as tf\n",
    "from keras import utils, models, layers, optimizers, preprocessing\n",
    "\n",
    "# AWS libraries\n",
    "import boto3"
   ]
  },
  {
   "cell_type": "markdown",
   "id": "4376254f-23c9-4233-a4dc-7eac1504cf9b",
   "metadata": {},
   "source": [
    "# Data Retrieval"
   ]
  },
  {
   "cell_type": "markdown",
   "id": "d695fb75-3209-416e-865d-2440c911f28d",
   "metadata": {},
   "source": [
    "My dataset of choice is the Diverse Dermatology Images (DDI) dataset curated by the Stanford University School of Medicine. As can be seen below, we begin by fetching the metadata CSV from the appropriate S3 location. The data workflow pipeline has already run the metadata transform Glue job on the raw metadata prior to the execution of this notebook, so we're merely fetching the cleaned product. However, further feature engineering will be performed on the metadata and images in preparation for model fitting.\n",
    "\n",
    "Upon further inspection of the metadata, we can also see that it contains 656 fully-populated records, two of which being integer features and the other two being string features."
   ]
  },
  {
   "cell_type": "markdown",
   "id": "de584ff7-a541-43ef-b483-6e23a288c462",
   "metadata": {},
   "source": [
    "### Data Fetch"
   ]
  },
  {
   "cell_type": "code",
   "execution_count": 2,
   "id": "5e38c4b9-8e05-4cca-91fa-1a4bca2f76e7",
   "metadata": {},
   "outputs": [],
   "source": [
    "def download_s3_images(images_file_key):  \n",
    "    for image_file_name in ddi_df['DDI_file'].tolist():    \n",
    "        output_path = 'images/{}'.format(image_file_name)\n",
    "        \n",
    "        with open(output_path, 'wb') as image_output:\n",
    "            s3.download_fileobj(\n",
    "                Bucket=bucket, \n",
    "                Key='{}/{}'.format(images_file_key, image_file_name),\n",
    "                Fileobj=image_output\n",
    "            )"
   ]
  },
  {
   "cell_type": "code",
   "execution_count": 3,
   "id": "74139792-568f-4539-ba5f-8498fec48267",
   "metadata": {},
   "outputs": [],
   "source": [
    "s3 = boto3.client('s3')\n",
    "bucket = 'poc-skin-disease-detection-cv'"
   ]
  },
  {
   "cell_type": "code",
   "execution_count": 4,
   "id": "bc2c6445-3a77-47fc-9742-6e61952d4d65",
   "metadata": {},
   "outputs": [],
   "source": [
    "data_file_key = 'ddidiversedermatologyimages/metadata/transform'\n",
    "data_file_name = 'part-00000-f5ce70f1-c572-4cbc-818e-e8dda587c3ef-c000.csv'\n",
    "\n",
    "obj = s3.get_object(Bucket=bucket, Key='{}/{}'.format(data_file_key, data_file_name)) \n",
    "ddi_df = pd.read_csv(obj['Body'])"
   ]
  },
  {
   "cell_type": "code",
   "execution_count": 5,
   "id": "d9bda36f-0525-4a03-b4d6-79966f39b00d",
   "metadata": {
    "scrolled": true
   },
   "outputs": [
    {
     "data": {
      "text/html": [
       "<div>\n",
       "<style scoped>\n",
       "    .dataframe tbody tr th:only-of-type {\n",
       "        vertical-align: middle;\n",
       "    }\n",
       "\n",
       "    .dataframe tbody tr th {\n",
       "        vertical-align: top;\n",
       "    }\n",
       "\n",
       "    .dataframe thead th {\n",
       "        text-align: right;\n",
       "    }\n",
       "</style>\n",
       "<table border=\"1\" class=\"dataframe\">\n",
       "  <thead>\n",
       "    <tr style=\"text-align: right;\">\n",
       "      <th></th>\n",
       "      <th>DDI_file</th>\n",
       "      <th>skin_tone</th>\n",
       "      <th>malignant</th>\n",
       "      <th>disease</th>\n",
       "    </tr>\n",
       "  </thead>\n",
       "  <tbody>\n",
       "    <tr>\n",
       "      <th>0</th>\n",
       "      <td>000001.png</td>\n",
       "      <td>56</td>\n",
       "      <td>1</td>\n",
       "      <td>melanoma-in-situ</td>\n",
       "    </tr>\n",
       "    <tr>\n",
       "      <th>1</th>\n",
       "      <td>000002.png</td>\n",
       "      <td>56</td>\n",
       "      <td>1</td>\n",
       "      <td>melanoma-in-situ</td>\n",
       "    </tr>\n",
       "    <tr>\n",
       "      <th>2</th>\n",
       "      <td>000003.png</td>\n",
       "      <td>56</td>\n",
       "      <td>1</td>\n",
       "      <td>mycosis-fungoides</td>\n",
       "    </tr>\n",
       "    <tr>\n",
       "      <th>3</th>\n",
       "      <td>000004.png</td>\n",
       "      <td>56</td>\n",
       "      <td>1</td>\n",
       "      <td>squamous-cell-carcinoma-in-situ</td>\n",
       "    </tr>\n",
       "    <tr>\n",
       "      <th>4</th>\n",
       "      <td>000005.png</td>\n",
       "      <td>12</td>\n",
       "      <td>1</td>\n",
       "      <td>basal-cell-carcinoma</td>\n",
       "    </tr>\n",
       "  </tbody>\n",
       "</table>\n",
       "</div>"
      ],
      "text/plain": [
       "     DDI_file  skin_tone  malignant                          disease\n",
       "0  000001.png         56          1                 melanoma-in-situ\n",
       "1  000002.png         56          1                 melanoma-in-situ\n",
       "2  000003.png         56          1                mycosis-fungoides\n",
       "3  000004.png         56          1  squamous-cell-carcinoma-in-situ\n",
       "4  000005.png         12          1             basal-cell-carcinoma"
      ]
     },
     "execution_count": 5,
     "metadata": {},
     "output_type": "execute_result"
    }
   ],
   "source": [
    "ddi_df.head()"
   ]
  },
  {
   "cell_type": "code",
   "execution_count": 6,
   "id": "1ba17178-20d0-4e60-b63a-a580a0d3fadf",
   "metadata": {},
   "outputs": [],
   "source": [
    "if not os.path.exists('images/'):\n",
    "    os.mkdir('images')\n",
    "    download_s3_images(images_file_key='ddidiversedermatologyimages/images')"
   ]
  },
  {
   "cell_type": "markdown",
   "id": "9c4cf11e-d9c8-438b-b34b-f28b30e267e0",
   "metadata": {},
   "source": [
    "### Data Inspection"
   ]
  },
  {
   "cell_type": "code",
   "execution_count": 7,
   "id": "e4d219ac-5356-4437-8d1e-033db965a6be",
   "metadata": {},
   "outputs": [
    {
     "data": {
      "text/plain": [
       "(656, 4)"
      ]
     },
     "execution_count": 7,
     "metadata": {},
     "output_type": "execute_result"
    }
   ],
   "source": [
    "ddi_df.shape"
   ]
  },
  {
   "cell_type": "code",
   "execution_count": 8,
   "id": "baaa85bf-8e2f-4bc2-be4d-a966ed5f4b5b",
   "metadata": {},
   "outputs": [
    {
     "data": {
      "text/plain": [
       "DDI_file     object\n",
       "skin_tone     int64\n",
       "malignant     int64\n",
       "disease      object\n",
       "dtype: object"
      ]
     },
     "execution_count": 8,
     "metadata": {},
     "output_type": "execute_result"
    }
   ],
   "source": [
    "ddi_df.dtypes"
   ]
  },
  {
   "cell_type": "code",
   "execution_count": 9,
   "id": "16fb765c-cbe4-40cf-a563-c4b7978d12b8",
   "metadata": {},
   "outputs": [
    {
     "data": {
      "text/plain": [
       "DDI_file     0\n",
       "skin_tone    0\n",
       "malignant    0\n",
       "disease      0\n",
       "dtype: int64"
      ]
     },
     "execution_count": 9,
     "metadata": {},
     "output_type": "execute_result"
    }
   ],
   "source": [
    "ddi_df.isnull().sum()"
   ]
  },
  {
   "cell_type": "code",
   "execution_count": 10,
   "id": "1446e999-8c5a-47f1-aeb7-4edc24115dfc",
   "metadata": {
    "scrolled": true
   },
   "outputs": [
    {
     "data": {
      "text/html": [
       "<div>\n",
       "<style scoped>\n",
       "    .dataframe tbody tr th:only-of-type {\n",
       "        vertical-align: middle;\n",
       "    }\n",
       "\n",
       "    .dataframe tbody tr th {\n",
       "        vertical-align: top;\n",
       "    }\n",
       "\n",
       "    .dataframe thead th {\n",
       "        text-align: right;\n",
       "    }\n",
       "</style>\n",
       "<table border=\"1\" class=\"dataframe\">\n",
       "  <thead>\n",
       "    <tr style=\"text-align: right;\">\n",
       "      <th></th>\n",
       "      <th>skin_tone</th>\n",
       "      <th>malignant</th>\n",
       "    </tr>\n",
       "  </thead>\n",
       "  <tbody>\n",
       "    <tr>\n",
       "      <th>count</th>\n",
       "      <td>656.000000</td>\n",
       "      <td>656.000000</td>\n",
       "    </tr>\n",
       "    <tr>\n",
       "      <th>mean</th>\n",
       "      <td>33.966463</td>\n",
       "      <td>0.260671</td>\n",
       "    </tr>\n",
       "    <tr>\n",
       "      <th>std</th>\n",
       "      <td>17.511578</td>\n",
       "      <td>0.439336</td>\n",
       "    </tr>\n",
       "    <tr>\n",
       "      <th>min</th>\n",
       "      <td>12.000000</td>\n",
       "      <td>0.000000</td>\n",
       "    </tr>\n",
       "    <tr>\n",
       "      <th>25%</th>\n",
       "      <td>12.000000</td>\n",
       "      <td>0.000000</td>\n",
       "    </tr>\n",
       "    <tr>\n",
       "      <th>50%</th>\n",
       "      <td>34.000000</td>\n",
       "      <td>0.000000</td>\n",
       "    </tr>\n",
       "    <tr>\n",
       "      <th>75%</th>\n",
       "      <td>56.000000</td>\n",
       "      <td>1.000000</td>\n",
       "    </tr>\n",
       "    <tr>\n",
       "      <th>max</th>\n",
       "      <td>56.000000</td>\n",
       "      <td>1.000000</td>\n",
       "    </tr>\n",
       "  </tbody>\n",
       "</table>\n",
       "</div>"
      ],
      "text/plain": [
       "        skin_tone   malignant\n",
       "count  656.000000  656.000000\n",
       "mean    33.966463    0.260671\n",
       "std     17.511578    0.439336\n",
       "min     12.000000    0.000000\n",
       "25%     12.000000    0.000000\n",
       "50%     34.000000    0.000000\n",
       "75%     56.000000    1.000000\n",
       "max     56.000000    1.000000"
      ]
     },
     "execution_count": 10,
     "metadata": {},
     "output_type": "execute_result"
    }
   ],
   "source": [
    "ddi_df.describe()"
   ]
  },
  {
   "cell_type": "markdown",
   "id": "0435bea8-7c4b-4084-8d3c-ab469dbc6bd5",
   "metadata": {},
   "source": [
    "# Exploratory Data Analysis (EDA)"
   ]
  },
  {
   "cell_type": "markdown",
   "id": "b3f8c359-cb18-41ce-b31d-8dccf30fed5e",
   "metadata": {},
   "source": [
    "### Which cutaneous diseases comprise our dataset?"
   ]
  },
  {
   "cell_type": "markdown",
   "id": "bc7ad54e-7687-4367-bf93-96498d13c1a5",
   "metadata": {},
   "source": [
    "The initial scope of this project was to specifically assess melanomas. However, a total of 78 cutaneous disease presentations, including other well-known cutaneous conditions such as carcinomas, have been aggregated to form the DDI dataset."
   ]
  },
  {
   "cell_type": "code",
   "execution_count": 11,
   "id": "633aa05e-7101-49f7-92ef-fdfd640b4f6e",
   "metadata": {
    "scrolled": true
   },
   "outputs": [
    {
     "name": "stdout",
     "output_type": "stream",
     "text": [
      "Number of disease presentations:  78\n"
     ]
    },
    {
     "data": {
      "text/plain": [
       "array(['abrasions-ulcerations-and-physical-injuries', 'abscess',\n",
       "       'acne-cystic', 'acquired-digital-fibrokeratoma',\n",
       "       'acral-melanotic-macule', 'acrochordon', 'actinic-keratosis',\n",
       "       'angioleiomyoma', 'angioma', 'arteriovenous-hemangioma',\n",
       "       'atypical-spindle-cell-nevus-of-reed', 'basal-cell-carcinoma',\n",
       "       'basal-cell-carcinoma-nodular', 'basal-cell-carcinoma-superficial',\n",
       "       'benign-keratosis', 'blastic-plasmacytoid-dendritic-cell-neoplasm',\n",
       "       'blue-nevus', 'cellular-neurothekeoma', 'chondroid-syringoma',\n",
       "       'clear-cell-acanthoma', 'coccidioidomycosis',\n",
       "       'condyloma-accuminatum', 'dermatofibroma', 'dermatomyositis',\n",
       "       'dysplastic-nevus', 'eccrine-poroma',\n",
       "       'eczema-spongiotic-dermatitis', 'epidermal-cyst',\n",
       "       'epidermal-nevus', 'fibrous-papule', 'focal-acral-hyperkeratosis',\n",
       "       'folliculitis', 'foreign-body-granuloma', 'glomangioma',\n",
       "       'graft-vs-host-disease', 'hematoma', 'hyperpigmentation',\n",
       "       'inverted-follicular-keratosis', 'kaposi-sarcoma', 'keloid',\n",
       "       'leukemia-cutis', 'lichenoid-keratosis', 'lipoma',\n",
       "       'lymphocytic-infiltrations', 'melanocytic-nevi', 'melanoma',\n",
       "       'melanoma-acral-lentiginous', 'melanoma-in-situ',\n",
       "       'metastatic-carcinoma', 'molluscum-contagiosum', 'morphea',\n",
       "       'mycosis-fungoides', 'neurofibroma', 'neuroma',\n",
       "       'nevus-lipomatosus-superficialis', 'nodular-melanoma-(nm)',\n",
       "       'onychomycosis', 'pigmented-spindle-cell-nevus-of-reed',\n",
       "       'prurigo-nodularis', 'pyogenic-granuloma',\n",
       "       'reactive-lymphoid-hyperplasia', 'scar', 'sebaceous-carcinoma',\n",
       "       'seborrheic-keratosis', 'seborrheic-keratosis-irritated',\n",
       "       'solar-lentigo', 'squamous-cell-carcinoma',\n",
       "       'squamous-cell-carcinoma-in-situ',\n",
       "       'squamous-cell-carcinoma-keratoacanthoma',\n",
       "       'subcutaneous-t-cell-lymphoma', 'syringocystadenoma-papilliferum',\n",
       "       'tinea-pedis', 'trichilemmoma', 'trichofolliculoma',\n",
       "       'verruca-vulgaris', 'verruciform-xanthoma', 'wart',\n",
       "       'xanthogranuloma'], dtype=object)"
      ]
     },
     "execution_count": 11,
     "metadata": {},
     "output_type": "execute_result"
    }
   ],
   "source": [
    "print(\"Number of disease presentations: \", len(ddi_df['disease'].unique()))\n",
    "np.sort(ddi_df['disease'].unique())"
   ]
  },
  {
   "cell_type": "markdown",
   "id": "1a6c40ec-01f3-4f76-9212-9b8f384c29a1",
   "metadata": {},
   "source": [
    "### Which skin tones are present in this dataset?"
   ]
  },
  {
   "cell_type": "markdown",
   "id": "5167bed1-4188-49b9-a3a4-ee7d958eb0e4",
   "metadata": {},
   "source": [
    "What makes the DDI dataset unique is its inclusion of skin types across the skin tone spectrum. The skin tone index values below are representations of the Fitzpatrick Skin Types (FST): fairer skin tones (Types 1-2), medium skin tones (Types 3-4), and darker skin tones (Types 5-6). Given the record counts associated with each FST, we can conclude that the dataset samples are relatively balanced."
   ]
  },
  {
   "cell_type": "code",
   "execution_count": 12,
   "id": "da64982d-b3d4-4eea-9b4f-18b3216af964",
   "metadata": {},
   "outputs": [
    {
     "data": {
      "text/html": [
       "<div>\n",
       "<style scoped>\n",
       "    .dataframe tbody tr th:only-of-type {\n",
       "        vertical-align: middle;\n",
       "    }\n",
       "\n",
       "    .dataframe tbody tr th {\n",
       "        vertical-align: top;\n",
       "    }\n",
       "\n",
       "    .dataframe thead th {\n",
       "        text-align: right;\n",
       "    }\n",
       "</style>\n",
       "<table border=\"1\" class=\"dataframe\">\n",
       "  <thead>\n",
       "    <tr style=\"text-align: right;\">\n",
       "      <th></th>\n",
       "      <th>disease</th>\n",
       "    </tr>\n",
       "    <tr>\n",
       "      <th>skin_tone</th>\n",
       "      <th></th>\n",
       "    </tr>\n",
       "  </thead>\n",
       "  <tbody>\n",
       "    <tr>\n",
       "      <th>12</th>\n",
       "      <td>208</td>\n",
       "    </tr>\n",
       "    <tr>\n",
       "      <th>34</th>\n",
       "      <td>241</td>\n",
       "    </tr>\n",
       "    <tr>\n",
       "      <th>56</th>\n",
       "      <td>207</td>\n",
       "    </tr>\n",
       "  </tbody>\n",
       "</table>\n",
       "</div>"
      ],
      "text/plain": [
       "           disease\n",
       "skin_tone         \n",
       "12             208\n",
       "34             241\n",
       "56             207"
      ]
     },
     "execution_count": 12,
     "metadata": {},
     "output_type": "execute_result"
    }
   ],
   "source": [
    "ddi_df.drop(['DDI_file', 'malignant'], axis=1).groupby(['skin_tone']).count()"
   ]
  },
  {
   "cell_type": "markdown",
   "id": "339ec323-98fc-4bd1-b993-1c46404b8cc5",
   "metadata": {},
   "source": [
    "### What is the dataset's target variable distribution?"
   ]
  },
  {
   "cell_type": "markdown",
   "id": "e09b97d5-196b-4f10-a8f5-54c72fc4651b",
   "metadata": {},
   "source": [
    "As was mentioned in the opening section, a skin disease presentation can be classified as either benign (0) or malignant (1); this is our dataset's target variable. Based on the data presented below, we can see that approximately 1 in 4 (26.1%) presentations will be malignant, a probability we should keep in mind when evaluating the classifications generated by the selected neural network. Additionally, we can see the classes are relatively balanced in their distribution across the FSTs, so no data resampling should be necessary."
   ]
  },
  {
   "cell_type": "code",
   "execution_count": 13,
   "id": "51a3d07f-fc12-47f0-a7ef-3a0a5c6502cf",
   "metadata": {},
   "outputs": [
    {
     "data": {
      "text/html": [
       "<div>\n",
       "<style scoped>\n",
       "    .dataframe tbody tr th:only-of-type {\n",
       "        vertical-align: middle;\n",
       "    }\n",
       "\n",
       "    .dataframe tbody tr th {\n",
       "        vertical-align: top;\n",
       "    }\n",
       "\n",
       "    .dataframe thead th {\n",
       "        text-align: right;\n",
       "    }\n",
       "</style>\n",
       "<table border=\"1\" class=\"dataframe\">\n",
       "  <thead>\n",
       "    <tr style=\"text-align: right;\">\n",
       "      <th></th>\n",
       "      <th>count</th>\n",
       "      <th>proportion</th>\n",
       "    </tr>\n",
       "    <tr>\n",
       "      <th>malignant</th>\n",
       "      <th></th>\n",
       "      <th></th>\n",
       "    </tr>\n",
       "  </thead>\n",
       "  <tbody>\n",
       "    <tr>\n",
       "      <th>0</th>\n",
       "      <td>485</td>\n",
       "      <td>0.739329</td>\n",
       "    </tr>\n",
       "    <tr>\n",
       "      <th>1</th>\n",
       "      <td>171</td>\n",
       "      <td>0.260671</td>\n",
       "    </tr>\n",
       "  </tbody>\n",
       "</table>\n",
       "</div>"
      ],
      "text/plain": [
       "           count  proportion\n",
       "malignant                   \n",
       "0            485    0.739329\n",
       "1            171    0.260671"
      ]
     },
     "execution_count": 13,
     "metadata": {},
     "output_type": "execute_result"
    }
   ],
   "source": [
    "pd.concat([ddi_df['malignant'].value_counts(), ddi_df['malignant'].value_counts(normalize=True)], axis=1)"
   ]
  },
  {
   "cell_type": "code",
   "execution_count": 14,
   "id": "5ef62ca7-baeb-4c6f-ac6d-5272f7857c38",
   "metadata": {},
   "outputs": [
    {
     "data": {
      "text/html": [
       "<div>\n",
       "<style scoped>\n",
       "    .dataframe tbody tr th:only-of-type {\n",
       "        vertical-align: middle;\n",
       "    }\n",
       "\n",
       "    .dataframe tbody tr th {\n",
       "        vertical-align: top;\n",
       "    }\n",
       "\n",
       "    .dataframe thead th {\n",
       "        text-align: right;\n",
       "    }\n",
       "</style>\n",
       "<table border=\"1\" class=\"dataframe\">\n",
       "  <thead>\n",
       "    <tr style=\"text-align: right;\">\n",
       "      <th></th>\n",
       "      <th></th>\n",
       "      <th>disease</th>\n",
       "    </tr>\n",
       "    <tr>\n",
       "      <th>malignant</th>\n",
       "      <th>skin_tone</th>\n",
       "      <th></th>\n",
       "    </tr>\n",
       "  </thead>\n",
       "  <tbody>\n",
       "    <tr>\n",
       "      <th rowspan=\"3\" valign=\"top\">0</th>\n",
       "      <th>12</th>\n",
       "      <td>159</td>\n",
       "    </tr>\n",
       "    <tr>\n",
       "      <th>34</th>\n",
       "      <td>167</td>\n",
       "    </tr>\n",
       "    <tr>\n",
       "      <th>56</th>\n",
       "      <td>159</td>\n",
       "    </tr>\n",
       "    <tr>\n",
       "      <th rowspan=\"3\" valign=\"top\">1</th>\n",
       "      <th>12</th>\n",
       "      <td>49</td>\n",
       "    </tr>\n",
       "    <tr>\n",
       "      <th>34</th>\n",
       "      <td>74</td>\n",
       "    </tr>\n",
       "    <tr>\n",
       "      <th>56</th>\n",
       "      <td>48</td>\n",
       "    </tr>\n",
       "  </tbody>\n",
       "</table>\n",
       "</div>"
      ],
      "text/plain": [
       "                     disease\n",
       "malignant skin_tone         \n",
       "0         12             159\n",
       "          34             167\n",
       "          56             159\n",
       "1         12              49\n",
       "          34              74\n",
       "          56              48"
      ]
     },
     "execution_count": 14,
     "metadata": {},
     "output_type": "execute_result"
    }
   ],
   "source": [
    "ddi_df.drop('DDI_file', axis=1).groupby(['malignant', 'skin_tone']).count()"
   ]
  },
  {
   "cell_type": "markdown",
   "id": "3e8d4e37-96a4-4f96-97d9-1e3319e4afc2",
   "metadata": {},
   "source": [
    "# Feature Engineering & Analysis"
   ]
  },
  {
   "cell_type": "markdown",
   "id": "8a8a11e5-6946-48f8-9a48-0675142c3455",
   "metadata": {},
   "source": [
    "### Data Augmentation"
   ]
  },
  {
   "cell_type": "code",
   "execution_count": 15,
   "id": "0bc3d1c1-2ca2-4edd-94c2-b9500961b235",
   "metadata": {},
   "outputs": [],
   "source": [
    "def augment_images(df, num_augs):\n",
    "      for i in range(num_augs):\n",
    "        aug_iter = i+1\n",
    "        \n",
    "        for filename in df['DDI_file']:\n",
    "            img = Image.open('images/{}'.format(filename)).rotate(90*aug_iter, expand=True)\n",
    "            img.save('images/rand{}_{}'.format(aug_iter, filename))"
   ]
  },
  {
   "cell_type": "code",
   "execution_count": 16,
   "id": "b6232cfc-bcde-47cd-90ef-9d3c911acd67",
   "metadata": {},
   "outputs": [],
   "source": [
    "def augment_metadata(df, num_augs):\n",
    "    orig_size = len(df)\n",
    "    \n",
    "    for i in range(num_augs):\n",
    "        aug_iter = i+1\n",
    "        \n",
    "        df_dupe = df.iloc[:orig_size]\n",
    "        df_dupe['DDI_file'] = df_dupe['DDI_file'].apply(lambda x: 'rand{}_{}'.format(aug_iter, x))\n",
    "        df = pd.concat([df, df_dupe])\n",
    "        df.index = range(len(df))\n",
    "\n",
    "    return df"
   ]
  },
  {
   "cell_type": "code",
   "execution_count": 17,
   "id": "e40b43b0-caf8-4722-b474-747d4934fc12",
   "metadata": {},
   "outputs": [
    {
     "name": "stderr",
     "output_type": "stream",
     "text": [
      "/tmp/ipykernel_8010/2880849854.py:8: SettingWithCopyWarning: \n",
      "A value is trying to be set on a copy of a slice from a DataFrame.\n",
      "Try using .loc[row_indexer,col_indexer] = value instead\n",
      "\n",
      "See the caveats in the documentation: https://pandas.pydata.org/pandas-docs/stable/user_guide/indexing.html#returning-a-view-versus-a-copy\n",
      "  df_dupe['DDI_file'] = df_dupe['DDI_file'].apply(lambda x: 'rand{}_{}'.format(aug_iter, x))\n"
     ]
    }
   ],
   "source": [
    "num_augs = 3\n",
    "\n",
    "if len(os.listdir('images/')) == len(ddi_df):\n",
    "    augment_images(ddi_df, num_augs)\n",
    "\n",
    "ddi_df = augment_metadata(ddi_df, num_augs)"
   ]
  },
  {
   "cell_type": "markdown",
   "id": "7d9e252a-9ecd-4012-ae75-5ef988af42b8",
   "metadata": {},
   "source": [
    "### Creating Dataset Partitions"
   ]
  },
  {
   "cell_type": "code",
   "execution_count": 18,
   "id": "d68477c3-4e41-458f-80e2-d97ad5701d3e",
   "metadata": {},
   "outputs": [],
   "source": [
    "def generate_train_dataset(df, data_split):\n",
    "    return preprocessing.image.ImageDataGenerator().flow_from_dataframe(\n",
    "        df,\n",
    "        directory='images/{}/'.format(data_split),\n",
    "        x_col='DDI_file',\n",
    "        y_col='malignant',\n",
    "        target_size=(img_height, img_width),\n",
    "        class_mode='binary',\n",
    "        batch_size=batch_size,\n",
    "        shuffle=True,\n",
    "        seed=42,\n",
    "        interpolation='lanczos',\n",
    "    )"
   ]
  },
  {
   "cell_type": "code",
   "execution_count": 19,
   "id": "7040195a-5c87-4edc-b8f3-6351d40c22b0",
   "metadata": {},
   "outputs": [],
   "source": [
    "def generate_test_dataset():\n",
    "    return utils.image_dataset_from_directory(\n",
    "        directory='images/test/',\n",
    "        labels=label_splits['test'].tolist(),\n",
    "        label_mode='binary',\n",
    "        image_size=(img_height, img_width),\n",
    "        batch_size=batch_size,\n",
    "        interpolation='lanczos3',\n",
    "        shuffle=True,\n",
    "    )"
   ]
  },
  {
   "cell_type": "code",
   "execution_count": 20,
   "id": "0d788733-1308-4d12-be3f-c5079a638a4d",
   "metadata": {},
   "outputs": [],
   "source": [
    "X = ddi_df.drop('malignant', axis=1)\n",
    "y = ddi_df['malignant']\n",
    "\n",
    "X_train, X_val_test, y_train, y_val_test = train_test_split(X, y, train_size=0.6, random_state=42,\n",
    "                                                            stratify=pd.concat([y, X['skin_tone']], axis=1))\n",
    "\n",
    "X_val, X_test, y_val, y_test = train_test_split(X_val_test, y_val_test, test_size=0.5, random_state=42,\n",
    "                                                stratify=pd.concat([y_val_test, X_val_test['skin_tone']], axis=1))"
   ]
  },
  {
   "cell_type": "code",
   "execution_count": 21,
   "id": "8e26934b-5b16-4457-989a-3980d403841e",
   "metadata": {},
   "outputs": [],
   "source": [
    "data_splits = {\n",
    "    'train': X_train,\n",
    "    'val': X_val,\n",
    "    'test': X_test,\n",
    "}\n",
    "label_splits = {\n",
    "    'train': y_train,\n",
    "    'val': y_val,\n",
    "    'test': y_test,\n",
    "}"
   ]
  },
  {
   "cell_type": "code",
   "execution_count": 22,
   "id": "66cf4ad3-b0b1-46f4-a393-ff4a966e3d51",
   "metadata": {},
   "outputs": [],
   "source": [
    "for split in data_splits.keys():\n",
    "    if not os.path.exists('images/{}/'.format(split)):\n",
    "        os.mkdir('images/{}'.format(split))\n",
    "    \n",
    "        for filename in data_splits[split]['DDI_file']:\n",
    "            shutil.move('images/{}'.format(filename), 'images/{}/{}'.format(split, filename))"
   ]
  },
  {
   "cell_type": "code",
   "execution_count": 23,
   "id": "9d33e7dd-e021-4ac8-9040-a32a934e6a9d",
   "metadata": {},
   "outputs": [
    {
     "data": {
      "text/plain": [
       "Text(0, 0.5, 'Pixel Height')"
      ]
     },
     "execution_count": 23,
     "metadata": {},
     "output_type": "execute_result"
    },
    {
     "data": {
      "image/png": "[encoded data removed]",
      "text/plain": [
       "<Figure size 640x480 with 1 Axes>"
      ]
     },
     "metadata": {},
     "output_type": "display_data"
    }
   ],
   "source": [
    "img_dims = pd.DataFrame(columns=['height', 'width'])\n",
    "\n",
    "for split in data_splits.keys():\n",
    "    for i, image_file_name in enumerate(data_splits[split]['DDI_file']):\n",
    "        img = Image.open('images/{}/{}'.format(split, image_file_name))\n",
    "        width, height = img.size\n",
    "        img_dims.loc[i] = [height, width]\n",
    "\n",
    "plt.scatter(img_dims['width'], img_dims['height'])\n",
    "plt.title('Image Size')\n",
    "plt.xlabel('Pixel Width')\n",
    "plt.ylabel('Pixel Height')"
   ]
  },
  {
   "cell_type": "code",
   "execution_count": 24,
   "id": "ac7235ab-cf5c-4ceb-89b3-ec8c23d9b7ee",
   "metadata": {},
   "outputs": [],
   "source": [
    "batch_size = 32\n",
    "img_height, img_width, img_channels = 256, 256, 3"
   ]
  },
  {
   "cell_type": "code",
   "execution_count": 25,
   "id": "48bf73dd-892c-4c12-abe3-95e583c410d5",
   "metadata": {},
   "outputs": [
    {
     "name": "stdout",
     "output_type": "stream",
     "text": [
      "Found 1574 validated image filenames belonging to 2 classes.\n"
     ]
    }
   ],
   "source": [
    "ddi_df_train = pd.concat([X_train, y_train.astype(str)], axis=1)\n",
    "images_train_ds = generate_train_dataset(ddi_df_train, 'train')"
   ]
  },
  {
   "cell_type": "code",
   "execution_count": 26,
   "id": "b1bbb06a-15ba-4957-bb34-364651111c47",
   "metadata": {},
   "outputs": [
    {
     "name": "stdout",
     "output_type": "stream",
     "text": [
      "Found 525 validated image filenames belonging to 2 classes.\n"
     ]
    }
   ],
   "source": [
    "ddi_df_val = pd.concat([X_val, y_val.astype(str)], axis=1)\n",
    "images_val_ds = generate_train_dataset(ddi_df_val, 'val')"
   ]
  },
  {
   "cell_type": "code",
   "execution_count": 27,
   "id": "3d310025-505c-432b-ba63-530adef7d4eb",
   "metadata": {},
   "outputs": [
    {
     "name": "stdout",
     "output_type": "stream",
     "text": [
      "Found 525 files belonging to 2 classes.\n"
     ]
    }
   ],
   "source": [
    "images_test_ds = generate_test_dataset()"
   ]
  },
  {
   "cell_type": "markdown",
   "id": "afa17787-2344-4f2a-a7ff-8aae326e2eb0",
   "metadata": {},
   "source": [
    "# Model Architecture"
   ]
  },
  {
   "cell_type": "markdown",
   "id": "258d1c21-ec96-4538-9fde-517a5fcaf3c5",
   "metadata": {},
   "source": [
    "https://www.tensorflow.org/tutorials/load_data/images"
   ]
  },
  {
   "cell_type": "code",
   "execution_count": 28,
   "id": "446d688d-9e6b-4b5b-ae18-a0a6703ed383",
   "metadata": {},
   "outputs": [],
   "source": [
    "epochs = 10"
   ]
  },
  {
   "cell_type": "code",
   "execution_count": 29,
   "id": "f12699a9-e4fd-4200-b0dd-255917fa73d5",
   "metadata": {},
   "outputs": [],
   "source": [
    "model = tf.keras.Sequential([\n",
    "    tf.keras.Input((img_height, img_width, img_channels)),\n",
    "    layers.Rescaling(1./255),\n",
    "    layers.Conv2D(32, 3, activation='relu'),\n",
    "    layers.MaxPooling2D(),\n",
    "    layers.Conv2D(32, 3, activation='relu'),\n",
    "    layers.MaxPooling2D(),\n",
    "    layers.Conv2D(32, 3, activation='relu'),\n",
    "    layers.MaxPooling2D(),\n",
    "    layers.Conv2D(32, 3, activation='relu'),\n",
    "    layers.MaxPooling2D(),\n",
    "    layers.Flatten(),\n",
    "    layers.Dense(512, activation='relu'),\n",
    "    layers.Dense(1, activation='sigmoid'),\n",
    "])\n",
    "\n",
    "model.compile(\n",
    "    optimizer=optimizers.Adam(learning_rate=0.0001),\n",
    "    loss='binary_crossentropy',\n",
    "    metrics='accuracy',\n",
    ")"
   ]
  },
  {
   "cell_type": "code",
   "execution_count": 30,
   "id": "9a8cee91-3362-4c55-8414-5ff8468887f6",
   "metadata": {
    "scrolled": true
   },
   "outputs": [
    {
     "name": "stdout",
     "output_type": "stream",
     "text": [
      "Model: \"sequential\"\n",
      "_________________________________________________________________\n",
      " Layer (type)                Output Shape              Param #   \n",
      "=================================================================\n",
      " rescaling (Rescaling)       (None, 256, 256, 3)       0         \n",
      "                                                                 \n",
      " conv2d (Conv2D)             (None, 254, 254, 32)      896       \n",
      "                                                                 \n",
      " max_pooling2d (MaxPooling2D  (None, 127, 127, 32)     0         \n",
      " )                                                               \n",
      "                                                                 \n",
      " conv2d_1 (Conv2D)           (None, 125, 125, 32)      9248      \n",
      "                                                                 \n",
      " max_pooling2d_1 (MaxPooling  (None, 62, 62, 32)       0         \n",
      " 2D)                                                             \n",
      "                                                                 \n",
      " conv2d_2 (Conv2D)           (None, 60, 60, 32)        9248      \n",
      "                                                                 \n",
      " max_pooling2d_2 (MaxPooling  (None, 30, 30, 32)       0         \n",
      " 2D)                                                             \n",
      "                                                                 \n",
      " conv2d_3 (Conv2D)           (None, 28, 28, 32)        9248      \n",
      "                                                                 \n",
      " max_pooling2d_3 (MaxPooling  (None, 14, 14, 32)       0         \n",
      " 2D)                                                             \n",
      "                                                                 \n",
      " flatten (Flatten)           (None, 6272)              0         \n",
      "                                                                 \n",
      " dense (Dense)               (None, 512)               3211776   \n",
      "                                                                 \n",
      " dense_1 (Dense)             (None, 1)                 513       \n",
      "                                                                 \n",
      "=================================================================\n",
      "Total params: 3,240,929\n",
      "Trainable params: 3,240,929\n",
      "Non-trainable params: 0\n",
      "_________________________________________________________________\n"
     ]
    }
   ],
   "source": [
    "model.summary()"
   ]
  },
  {
   "cell_type": "markdown",
   "id": "a5cb0dea-0c4f-448c-b2cc-fdd86cac427a",
   "metadata": {},
   "source": [
    "# Model Evaluation"
   ]
  },
  {
   "cell_type": "code",
   "execution_count": 31,
   "id": "f5edd80c-3411-415a-9d20-cd0834ff1eab",
   "metadata": {},
   "outputs": [
    {
     "name": "stdout",
     "output_type": "stream",
     "text": [
      "Epoch 1/10\n"
     ]
    },
    {
     "name": "stderr",
     "output_type": "stream",
     "text": [
      "2024-04-10 23:14:56.128329: I tensorflow/core/common_runtime/executor.cc:1197] [/device:CPU:0] (DEBUG INFO) Executor start aborting (this does not indicate an error and you can ignore this message): INVALID_ARGUMENT: You must feed a value for placeholder tensor 'Placeholder/_0' with dtype int32\n",
      "\t [[{{node Placeholder/_0}}]]\n"
     ]
    },
    {
     "name": "stdout",
     "output_type": "stream",
     "text": [
      "50/50 [==============================] - ETA: 0s - loss: 0.5913 - accuracy: 0.7300"
     ]
    },
    {
     "name": "stderr",
     "output_type": "stream",
     "text": [
      "2024-04-10 23:15:46.760504: I tensorflow/core/common_runtime/executor.cc:1197] [/device:CPU:0] (DEBUG INFO) Executor start aborting (this does not indicate an error and you can ignore this message): INVALID_ARGUMENT: You must feed a value for placeholder tensor 'Placeholder/_0' with dtype int32\n",
      "\t [[{{node Placeholder/_0}}]]\n"
     ]
    },
    {
     "name": "stdout",
     "output_type": "stream",
     "text": [
      "50/50 [==============================] - 63s 1s/step - loss: 0.5913 - accuracy: 0.7300 - val_loss: 0.5839 - val_accuracy: 0.7390\n",
      "Epoch 2/10\n",
      "50/50 [==============================] - 57s 1s/step - loss: 0.5802 - accuracy: 0.7389 - val_loss: 0.5814 - val_accuracy: 0.7390\n",
      "Epoch 3/10\n",
      "50/50 [==============================] - 57s 1s/step - loss: 0.5781 - accuracy: 0.7389 - val_loss: 0.5976 - val_accuracy: 0.7390\n",
      "Epoch 4/10\n",
      "50/50 [==============================] - 57s 1s/step - loss: 0.5690 - accuracy: 0.7389 - val_loss: 0.5743 - val_accuracy: 0.7390\n",
      "Epoch 5/10\n",
      "50/50 [==============================] - 57s 1s/step - loss: 0.5551 - accuracy: 0.7395 - val_loss: 0.5862 - val_accuracy: 0.7390\n",
      "Epoch 6/10\n",
      "50/50 [==============================] - 57s 1s/step - loss: 0.5452 - accuracy: 0.7408 - val_loss: 0.5643 - val_accuracy: 0.7352\n",
      "Epoch 7/10\n",
      "50/50 [==============================] - 58s 1s/step - loss: 0.5258 - accuracy: 0.7497 - val_loss: 0.5693 - val_accuracy: 0.7352\n",
      "Epoch 8/10\n",
      "50/50 [==============================] - 58s 1s/step - loss: 0.5205 - accuracy: 0.7554 - val_loss: 0.5601 - val_accuracy: 0.7295\n",
      "Epoch 9/10\n",
      "50/50 [==============================] - 58s 1s/step - loss: 0.4979 - accuracy: 0.7668 - val_loss: 0.5683 - val_accuracy: 0.7295\n",
      "Epoch 10/10\n",
      "50/50 [==============================] - 58s 1s/step - loss: 0.4824 - accuracy: 0.7751 - val_loss: 0.5774 - val_accuracy: 0.7333\n"
     ]
    },
    {
     "data": {
      "text/plain": [
       "<keras.callbacks.History at 0x7fe050525ed0>"
      ]
     },
     "execution_count": 31,
     "metadata": {},
     "output_type": "execute_result"
    }
   ],
   "source": [
    "model.fit(\n",
    "    images_train_ds,#.cache().prefetch(buffer_size=tf.data.AUTOTUNE),\n",
    "    validation_data=images_val_ds,#.cache().prefetch(buffer_size=tf.data.AUTOTUNE),\n",
    "    epochs=epochs,\n",
    ")"
   ]
  },
  {
   "cell_type": "code",
   "execution_count": 32,
   "id": "3a3def51-0d95-47b0-8c3c-bf1b4a3c494c",
   "metadata": {},
   "outputs": [
    {
     "name": "stderr",
     "output_type": "stream",
     "text": [
      "2024-04-10 23:24:35.951888: I tensorflow/core/common_runtime/executor.cc:1197] [/device:CPU:0] (DEBUG INFO) Executor start aborting (this does not indicate an error and you can ignore this message): INVALID_ARGUMENT: You must feed a value for placeholder tensor 'Placeholder/_0' with dtype string and shape [525]\n",
      "\t [[{{node Placeholder/_0}}]]\n",
      "2024-04-10 23:24:35.952314: I tensorflow/core/common_runtime/executor.cc:1197] [/device:CPU:0] (DEBUG INFO) Executor start aborting (this does not indicate an error and you can ignore this message): INVALID_ARGUMENT: You must feed a value for placeholder tensor 'Placeholder/_4' with dtype int32 and shape [525]\n",
      "\t [[{{node Placeholder/_4}}]]\n"
     ]
    },
    {
     "name": "stdout",
     "output_type": "stream",
     "text": [
      "17/17 [==============================] - 4s 174ms/step\n"
     ]
    }
   ],
   "source": [
    "y_preds = model.predict(images_test_ds)"
   ]
  },
  {
   "cell_type": "code",
   "execution_count": 33,
   "id": "c9c8922a-a129-45f6-8357-0e31815eb28f",
   "metadata": {},
   "outputs": [
    {
     "data": {
      "text/plain": [
       "array([0.61755747, 0.63921934, 0.6259197 , 0.50200707, 0.5481336 ,\n",
       "       0.579747  , 0.52667   , 0.51574135, 0.5786261 , 0.50822246,\n",
       "       0.5723415 ], dtype=float32)"
      ]
     },
     "execution_count": 33,
     "metadata": {},
     "output_type": "execute_result"
    }
   ],
   "source": [
    "y_preds[y_preds >= 0.5]"
   ]
  },
  {
   "cell_type": "markdown",
   "id": "f4810916-5a3b-4941-8843-f54a0b46bf26",
   "metadata": {},
   "source": [
    "# Future Work"
   ]
  }
 ],
 "metadata": {
  "kernelspec": {
   "display_name": "Python 3 (ipykernel)",
   "language": "python",
   "name": "python3"
  },
  "language_info": {
   "codemirror_mode": {
    "name": "ipython",
    "version": 3
   },
   "file_extension": ".py",
   "mimetype": "text/x-python",
   "name": "python",
   "nbconvert_exporter": "python",
   "pygments_lexer": "ipython3",
   "version": "3.10.13"
  }
 },
 "nbformat": 4,
 "nbformat_minor": 5
}

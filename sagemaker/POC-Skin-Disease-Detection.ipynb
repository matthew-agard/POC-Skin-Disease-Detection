{
 "cells": [
  {
   "cell_type": "markdown",
   "id": "ea6671fc-3ee1-4cb0-9cd3-3fbbe01196be",
   "metadata": {},
   "source": [
    "# Addressing the Problem"
   ]
  },
  {
   "cell_type": "markdown",
   "id": "e88b4560-2ce4-4940-85e0-b38814851207",
   "metadata": {},
   "source": [
    "### Skin Disease Classification"
   ]
  },
  {
   "cell_type": "markdown",
   "id": "4ce5cac2-4e70-4102-bda6-efe65b8c289f",
   "metadata": {},
   "source": [
    "The U.S. Census Bureau projects that by 2050, about half of all patients seen in the U.S. healthcare system will have skin of color (SOC). As these communities continue to grow, so will the likelihood of dermatologists encountering cutaneous (skin) diseases that happen more frequently in SOC patients, happen exclusively in SOC patients, and/or present differently in SOC patients than their White counterparts. Aiding dermatologists in their understanding, and more importantly diagnoses, of SOC patients’ cutaneous disease presentations is paramount to delivering life-saving\n",
    "quality of care to these communities. As a result, the following practicum project will explore the use of computer vision for classification of cutaneous diseases in SOC patients."
   ]
  },
  {
   "cell_type": "markdown",
   "id": "9cdad4d7-afac-4029-8010-61b74f0febd7",
   "metadata": {},
   "source": [
    "### Problem Structure"
   ]
  },
  {
   "cell_type": "markdown",
   "id": "6be8501b-b3b5-4d83-890c-c5db7441794b",
   "metadata": {},
   "source": [
    "The following research notebook addresses the supervised classifcation problem of determining whether a given image of a skin disease is benign (0) or malignant (1). The metric(s) to be used for evaluating the neural network's performance is TBD."
   ]
  },
  {
   "cell_type": "markdown",
   "id": "5aefca4d-33a3-46ac-a4c7-eb93839fc867",
   "metadata": {},
   "source": [
    "### Import Necessary Modules"
   ]
  },
  {
   "cell_type": "code",
   "execution_count": 1,
   "id": "f15cc948-0de6-4f59-ac55-4d7f2ceaf46a",
   "metadata": {},
   "outputs": [
    {
     "name": "stderr",
     "output_type": "stream",
     "text": [
      "2024-04-02 16:04:12.067242: I tensorflow/core/platform/cpu_feature_guard.cc:182] This TensorFlow binary is optimized to use available CPU instructions in performance-critical operations.\n",
      "To enable the following instructions: SSE4.1 SSE4.2 AVX AVX2 AVX512F FMA, in other operations, rebuild TensorFlow with the appropriate compiler flags.\n"
     ]
    }
   ],
   "source": [
    "# Standard Python libraries\n",
    "import pandas as pd\n",
    "import numpy as np\n",
    "import matplotlib.pyplot as plt\n",
    "from IPython.display import display\n",
    "\n",
    "# Model construction & evaluation\n",
    "from sklearn.model_selection import train_test_split\n",
    "import tensorflow as tf\n",
    "from keras import models, layers\n",
    "\n",
    "# AWS-specific libraries\n",
    "import boto3"
   ]
  },
  {
   "cell_type": "markdown",
   "id": "4376254f-23c9-4233-a4dc-7eac1504cf9b",
   "metadata": {},
   "source": [
    "# Data Retrieval"
   ]
  },
  {
   "cell_type": "markdown",
   "id": "d695fb75-3209-416e-865d-2440c911f28d",
   "metadata": {},
   "source": [
    "As can be seen below, we begin by fetching our metadata CSV from the appropriate S3 location. The data workflow pipeline has already run the metadata transform Glue job on the raw metadata prior to the execution of this notebook, so we're merely fetching the cleaned product. However, further feature engineering will be performed on the metadata and images in preparation for model fitting.\n",
    "\n",
    "Upon further inspection of the metadata, we can also see that it contains 656 fully-populated records, two of which being integer features and the other two being string features."
   ]
  },
  {
   "cell_type": "markdown",
   "id": "de584ff7-a541-43ef-b483-6e23a288c462",
   "metadata": {},
   "source": [
    "### Data Fetch"
   ]
  },
  {
   "cell_type": "code",
   "execution_count": 2,
   "id": "bc2c6445-3a77-47fc-9742-6e61952d4d65",
   "metadata": {},
   "outputs": [],
   "source": [
    "bucket = 'poc-skin-disease-detection-cv'\n",
    "data_file_key = 'ddidiversedermatologyimages/metadata/transform'\n",
    "data_file_name = 'part-00000-f5ce70f1-c572-4cbc-818e-e8dda587c3ef-c000.csv'\n",
    "\n",
    "s3 = boto3.client('s3')\n",
    "obj = s3.get_object(Bucket=bucket, Key='{}/{}'.format(data_file_key, data_file_name)) \n",
    "\n",
    "ddi_df = pd.read_csv(obj['Body'])"
   ]
  },
  {
   "cell_type": "code",
   "execution_count": 3,
   "id": "d9bda36f-0525-4a03-b4d6-79966f39b00d",
   "metadata": {
    "scrolled": true
   },
   "outputs": [
    {
     "data": {
      "text/html": [
       "<div>\n",
       "<style scoped>\n",
       "    .dataframe tbody tr th:only-of-type {\n",
       "        vertical-align: middle;\n",
       "    }\n",
       "\n",
       "    .dataframe tbody tr th {\n",
       "        vertical-align: top;\n",
       "    }\n",
       "\n",
       "    .dataframe thead th {\n",
       "        text-align: right;\n",
       "    }\n",
       "</style>\n",
       "<table border=\"1\" class=\"dataframe\">\n",
       "  <thead>\n",
       "    <tr style=\"text-align: right;\">\n",
       "      <th></th>\n",
       "      <th>DDI_file</th>\n",
       "      <th>skin_tone</th>\n",
       "      <th>malignant</th>\n",
       "      <th>disease</th>\n",
       "    </tr>\n",
       "  </thead>\n",
       "  <tbody>\n",
       "    <tr>\n",
       "      <th>0</th>\n",
       "      <td>000001.png</td>\n",
       "      <td>56</td>\n",
       "      <td>1</td>\n",
       "      <td>melanoma-in-situ</td>\n",
       "    </tr>\n",
       "    <tr>\n",
       "      <th>1</th>\n",
       "      <td>000002.png</td>\n",
       "      <td>56</td>\n",
       "      <td>1</td>\n",
       "      <td>melanoma-in-situ</td>\n",
       "    </tr>\n",
       "    <tr>\n",
       "      <th>2</th>\n",
       "      <td>000003.png</td>\n",
       "      <td>56</td>\n",
       "      <td>1</td>\n",
       "      <td>mycosis-fungoides</td>\n",
       "    </tr>\n",
       "    <tr>\n",
       "      <th>3</th>\n",
       "      <td>000004.png</td>\n",
       "      <td>56</td>\n",
       "      <td>1</td>\n",
       "      <td>squamous-cell-carcinoma-in-situ</td>\n",
       "    </tr>\n",
       "    <tr>\n",
       "      <th>4</th>\n",
       "      <td>000005.png</td>\n",
       "      <td>12</td>\n",
       "      <td>1</td>\n",
       "      <td>basal-cell-carcinoma</td>\n",
       "    </tr>\n",
       "  </tbody>\n",
       "</table>\n",
       "</div>"
      ],
      "text/plain": [
       "     DDI_file  skin_tone  malignant                          disease\n",
       "0  000001.png         56          1                 melanoma-in-situ\n",
       "1  000002.png         56          1                 melanoma-in-situ\n",
       "2  000003.png         56          1                mycosis-fungoides\n",
       "3  000004.png         56          1  squamous-cell-carcinoma-in-situ\n",
       "4  000005.png         12          1             basal-cell-carcinoma"
      ]
     },
     "execution_count": 3,
     "metadata": {},
     "output_type": "execute_result"
    }
   ],
   "source": [
    "ddi_df.head()"
   ]
  },
  {
   "cell_type": "markdown",
   "id": "9c4cf11e-d9c8-438b-b34b-f28b30e267e0",
   "metadata": {},
   "source": [
    "### Data Inspection"
   ]
  },
  {
   "cell_type": "code",
   "execution_count": 4,
   "id": "e4d219ac-5356-4437-8d1e-033db965a6be",
   "metadata": {},
   "outputs": [
    {
     "data": {
      "text/plain": [
       "(656, 4)"
      ]
     },
     "execution_count": 4,
     "metadata": {},
     "output_type": "execute_result"
    }
   ],
   "source": [
    "ddi_df.shape"
   ]
  },
  {
   "cell_type": "code",
   "execution_count": 5,
   "id": "baaa85bf-8e2f-4bc2-be4d-a966ed5f4b5b",
   "metadata": {},
   "outputs": [
    {
     "data": {
      "text/plain": [
       "DDI_file     object\n",
       "skin_tone     int64\n",
       "malignant     int64\n",
       "disease      object\n",
       "dtype: object"
      ]
     },
     "execution_count": 5,
     "metadata": {},
     "output_type": "execute_result"
    }
   ],
   "source": [
    "ddi_df.dtypes"
   ]
  },
  {
   "cell_type": "code",
   "execution_count": 6,
   "id": "16fb765c-cbe4-40cf-a563-c4b7978d12b8",
   "metadata": {},
   "outputs": [
    {
     "data": {
      "text/plain": [
       "DDI_file     0\n",
       "skin_tone    0\n",
       "malignant    0\n",
       "disease      0\n",
       "dtype: int64"
      ]
     },
     "execution_count": 6,
     "metadata": {},
     "output_type": "execute_result"
    }
   ],
   "source": [
    "ddi_df.isnull().sum()"
   ]
  },
  {
   "cell_type": "code",
   "execution_count": 7,
   "id": "1446e999-8c5a-47f1-aeb7-4edc24115dfc",
   "metadata": {
    "scrolled": true
   },
   "outputs": [
    {
     "data": {
      "text/html": [
       "<div>\n",
       "<style scoped>\n",
       "    .dataframe tbody tr th:only-of-type {\n",
       "        vertical-align: middle;\n",
       "    }\n",
       "\n",
       "    .dataframe tbody tr th {\n",
       "        vertical-align: top;\n",
       "    }\n",
       "\n",
       "    .dataframe thead th {\n",
       "        text-align: right;\n",
       "    }\n",
       "</style>\n",
       "<table border=\"1\" class=\"dataframe\">\n",
       "  <thead>\n",
       "    <tr style=\"text-align: right;\">\n",
       "      <th></th>\n",
       "      <th>skin_tone</th>\n",
       "      <th>malignant</th>\n",
       "    </tr>\n",
       "  </thead>\n",
       "  <tbody>\n",
       "    <tr>\n",
       "      <th>count</th>\n",
       "      <td>656.000000</td>\n",
       "      <td>656.000000</td>\n",
       "    </tr>\n",
       "    <tr>\n",
       "      <th>mean</th>\n",
       "      <td>33.966463</td>\n",
       "      <td>0.260671</td>\n",
       "    </tr>\n",
       "    <tr>\n",
       "      <th>std</th>\n",
       "      <td>17.511578</td>\n",
       "      <td>0.439336</td>\n",
       "    </tr>\n",
       "    <tr>\n",
       "      <th>min</th>\n",
       "      <td>12.000000</td>\n",
       "      <td>0.000000</td>\n",
       "    </tr>\n",
       "    <tr>\n",
       "      <th>25%</th>\n",
       "      <td>12.000000</td>\n",
       "      <td>0.000000</td>\n",
       "    </tr>\n",
       "    <tr>\n",
       "      <th>50%</th>\n",
       "      <td>34.000000</td>\n",
       "      <td>0.000000</td>\n",
       "    </tr>\n",
       "    <tr>\n",
       "      <th>75%</th>\n",
       "      <td>56.000000</td>\n",
       "      <td>1.000000</td>\n",
       "    </tr>\n",
       "    <tr>\n",
       "      <th>max</th>\n",
       "      <td>56.000000</td>\n",
       "      <td>1.000000</td>\n",
       "    </tr>\n",
       "  </tbody>\n",
       "</table>\n",
       "</div>"
      ],
      "text/plain": [
       "        skin_tone   malignant\n",
       "count  656.000000  656.000000\n",
       "mean    33.966463    0.260671\n",
       "std     17.511578    0.439336\n",
       "min     12.000000    0.000000\n",
       "25%     12.000000    0.000000\n",
       "50%     34.000000    0.000000\n",
       "75%     56.000000    1.000000\n",
       "max     56.000000    1.000000"
      ]
     },
     "execution_count": 7,
     "metadata": {},
     "output_type": "execute_result"
    }
   ],
   "source": [
    "ddi_df.describe()"
   ]
  },
  {
   "cell_type": "markdown",
   "id": "0435bea8-7c4b-4084-8d3c-ab469dbc6bd5",
   "metadata": {},
   "source": [
    "# Exploratory Data Analysis (EDA)"
   ]
  },
  {
   "cell_type": "markdown",
   "id": "3e8d4e37-96a4-4f96-97d9-1e3319e4afc2",
   "metadata": {},
   "source": [
    "# Feature Engineering & Analysis"
   ]
  },
  {
   "cell_type": "markdown",
   "id": "afa17787-2344-4f2a-a7ff-8aae326e2eb0",
   "metadata": {},
   "source": [
    "# Model Training & Selection"
   ]
  },
  {
   "cell_type": "markdown",
   "id": "a5cb0dea-0c4f-448c-b2cc-fdd86cac427a",
   "metadata": {},
   "source": [
    "# Model Evaluation"
   ]
  },
  {
   "cell_type": "markdown",
   "id": "f4810916-5a3b-4941-8843-f54a0b46bf26",
   "metadata": {},
   "source": [
    "# Future Work"
   ]
  }
 ],
 "metadata": {
  "kernelspec": {
   "display_name": "Python 3 (ipykernel)",
   "language": "python",
   "name": "python3"
  },
  "language_info": {
   "codemirror_mode": {
    "name": "ipython",
    "version": 3
   },
   "file_extension": ".py",
   "mimetype": "text/x-python",
   "name": "python",
   "nbconvert_exporter": "python",
   "pygments_lexer": "ipython3",
   "version": "3.10.13"
  }
 },
 "nbformat": 4,
 "nbformat_minor": 5
}
